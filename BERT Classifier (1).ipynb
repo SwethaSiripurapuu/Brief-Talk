{
 "cells": [
  {
   "cell_type": "code",
   "execution_count": 1,
   "id": "0da876c9",
   "metadata": {},
   "outputs": [],
   "source": [
    "pairs = [\n",
    "    ('I am sentence A', 'and this is sentence B'),\n",
    "    ('there are three pairs', 'each pair includes an A and a B sentence'),\n",
    "    ('random sampling creates more pairs', 'from these three, we create nine')\n",
    "]"
   ]
  },
  {
   "cell_type": "code",
   "execution_count": 2,
   "id": "5fe92c84",
   "metadata": {},
   "outputs": [
    {
     "name": "stdout",
     "output_type": "stream",
     "text": [
      "('I am sentence A', 'and this is sentence B')\n",
      "('I am sentence A', 'each pair includes an A and a B sentence')\n",
      "('I am sentence A', 'from these three, we create nine')\n",
      "('there are three pairs', 'and this is sentence B')\n",
      "('there are three pairs', 'each pair includes an A and a B sentence')\n",
      "('there are three pairs', 'from these three, we create nine')\n",
      "('random sampling creates more pairs', 'and this is sentence B')\n",
      "('random sampling creates more pairs', 'each pair includes an A and a B sentence')\n",
      "('random sampling creates more pairs', 'from these three, we create nine')\n"
     ]
    }
   ],
   "source": [
    "# mix all sentences\n",
    "sampled = []\n",
    "for a, _ in pairs:\n",
    "    for _, b in pairs:\n",
    "        print((a, b))"
   ]
  },
  {
   "cell_type": "code",
   "execution_count": 4,
   "id": "7e630d9a",
   "metadata": {},
   "outputs": [
    {
     "data": {
      "application/vnd.jupyter.widget-view+json": {
       "model_id": "e53d8d81e0244b639f9a9ec635130c93",
       "version_major": 2,
       "version_minor": 0
      },
      "text/plain": [
       "Downloading builder script:   0%|          | 0.00/28.8k [00:00<?, ?B/s]"
      ]
     },
     "metadata": {},
     "output_type": "display_data"
    },
    {
     "data": {
      "application/vnd.jupyter.widget-view+json": {
       "model_id": "d4b9ab3635b2474f95d3ac9854d2c4e5",
       "version_major": 2,
       "version_minor": 0
      },
      "text/plain": [
       "Downloading metadata:   0%|          | 0.00/28.7k [00:00<?, ?B/s]"
      ]
     },
     "metadata": {},
     "output_type": "display_data"
    },
    {
     "data": {
      "application/vnd.jupyter.widget-view+json": {
       "model_id": "739af11ff18d4d1581a16df6d54f997b",
       "version_major": 2,
       "version_minor": 0
      },
      "text/plain": [
       "Downloading readme:   0%|          | 0.00/27.9k [00:00<?, ?B/s]"
      ]
     },
     "metadata": {},
     "output_type": "display_data"
    },
    {
     "name": "stdout",
     "output_type": "stream",
     "text": [
      "Downloading and preparing dataset glue/stsb to C:/Users/sweth/.cache/huggingface/datasets/glue/stsb/1.0.0/dacbe3125aa31d7f70367a07a8a9e72a5a0bfeb5fc42e75c9db75b96da6053ad...\n"
     ]
    },
    {
     "data": {
      "application/vnd.jupyter.widget-view+json": {
       "model_id": "72c503514d7140d292ab1a0f9c8a8b61",
       "version_major": 2,
       "version_minor": 0
      },
      "text/plain": [
       "Downloading data:   0%|          | 0.00/803k [00:00<?, ?B/s]"
      ]
     },
     "metadata": {},
     "output_type": "display_data"
    },
    {
     "data": {
      "application/vnd.jupyter.widget-view+json": {
       "model_id": "",
       "version_major": 2,
       "version_minor": 0
      },
      "text/plain": [
       "Generating train split:   0%|          | 0/5749 [00:00<?, ? examples/s]"
      ]
     },
     "metadata": {},
     "output_type": "display_data"
    },
    {
     "data": {
      "application/vnd.jupyter.widget-view+json": {
       "model_id": "",
       "version_major": 2,
       "version_minor": 0
      },
      "text/plain": [
       "Generating validation split:   0%|          | 0/1500 [00:00<?, ? examples/s]"
      ]
     },
     "metadata": {},
     "output_type": "display_data"
    },
    {
     "data": {
      "application/vnd.jupyter.widget-view+json": {
       "model_id": "",
       "version_major": 2,
       "version_minor": 0
      },
      "text/plain": [
       "Generating test split:   0%|          | 0/1379 [00:00<?, ? examples/s]"
      ]
     },
     "metadata": {},
     "output_type": "display_data"
    },
    {
     "name": "stdout",
     "output_type": "stream",
     "text": [
      "Dataset glue downloaded and prepared to C:/Users/sweth/.cache/huggingface/datasets/glue/stsb/1.0.0/dacbe3125aa31d7f70367a07a8a9e72a5a0bfeb5fc42e75c9db75b96da6053ad. Subsequent calls will reuse this data.\n"
     ]
    },
    {
     "name": "stderr",
     "output_type": "stream",
     "text": [
      "Found cached dataset glue (C:/Users/sweth/.cache/huggingface/datasets/glue/stsb/1.0.0/dacbe3125aa31d7f70367a07a8a9e72a5a0bfeb5fc42e75c9db75b96da6053ad)\n"
     ]
    },
    {
     "data": {
      "text/plain": [
       "Dataset({\n",
       "    features: ['sentence1', 'sentence2', 'label', 'idx'],\n",
       "    num_rows: 5749\n",
       "})"
      ]
     },
     "execution_count": 4,
     "metadata": {},
     "output_type": "execute_result"
    }
   ],
   "source": [
    "import datasets\n",
    "\n",
    "stsb = datasets.load_dataset('glue', 'stsb', split='train')\n",
    "stsb_dev = datasets.load_dataset('glue', 'stsb', split='validation')\n",
    "stsb"
   ]
  },
  {
   "cell_type": "code",
   "execution_count": 5,
   "id": "fae756f3",
   "metadata": {},
   "outputs": [
    {
     "data": {
      "text/plain": [
       "{'sentence1': 'A plane is taking off.',\n",
       " 'sentence2': 'An air plane is taking off.',\n",
       " 'label': 1.0,\n",
       " 'idx': 0}"
      ]
     },
     "execution_count": 5,
     "metadata": {},
     "output_type": "execute_result"
    }
   ],
   "source": [
    "{\n",
    "'sentence1': 'A plane is taking off.',\n",
    "'sentence2': 'An air plane is taking off.',\n",
    "'label': 1.0, # this value will range from 0.0 -> 1.0\n",
    "'idx': 0\n",
    "}\n"
   ]
  },
  {
   "cell_type": "code",
   "execution_count": 7,
   "id": "649c768c",
   "metadata": {},
   "outputs": [],
   "source": [
    "from sentence_transformers import InputExample\n",
    "from torch.utils.data import DataLoader\n",
    "\n",
    "train_data = []\n",
    "for row in stsb:\n",
    "    train_data.append(\n",
    "        InputExample(\n",
    "            texts=[row['sentence1'], row['sentence2']],\n",
    "            label=int(float(row['label']))\n",
    "        )\n",
    "    )\n",
    "\n",
    "batch_size = 16\n",
    "# load our training data (first 95%) into a dataloader\n",
    "loader = DataLoader(\n",
    "    train_data, shuffle=True, batch_size=batch_size\n",
    ")"
   ]
  },
  {
   "cell_type": "code",
   "execution_count": 8,
   "id": "1faaf845",
   "metadata": {},
   "outputs": [
    {
     "data": {
      "application/vnd.jupyter.widget-view+json": {
       "model_id": "785191be18584174a716da1669e9ffc0",
       "version_major": 2,
       "version_minor": 0
      },
      "text/plain": [
       "Downloading:   0%|          | 0.00/570 [00:00<?, ?B/s]"
      ]
     },
     "metadata": {},
     "output_type": "display_data"
    },
    {
     "data": {
      "application/vnd.jupyter.widget-view+json": {
       "model_id": "ab670bba47424010bd1d5f4449ce07b6",
       "version_major": 2,
       "version_minor": 0
      },
      "text/plain": [
       "Downloading:   0%|          | 0.00/420M [00:00<?, ?B/s]"
      ]
     },
     "metadata": {},
     "output_type": "display_data"
    },
    {
     "name": "stderr",
     "output_type": "stream",
     "text": [
      "Some weights of the model checkpoint at bert-base-uncased were not used when initializing BertForSequenceClassification: ['cls.predictions.decoder.weight', 'cls.predictions.bias', 'cls.seq_relationship.bias', 'cls.predictions.transform.dense.weight', 'cls.seq_relationship.weight', 'cls.predictions.transform.LayerNorm.weight', 'cls.predictions.transform.LayerNorm.bias', 'cls.predictions.transform.dense.bias']\n",
      "- This IS expected if you are initializing BertForSequenceClassification from the checkpoint of a model trained on another task or with another architecture (e.g. initializing a BertForSequenceClassification model from a BertForPreTraining model).\n",
      "- This IS NOT expected if you are initializing BertForSequenceClassification from the checkpoint of a model that you expect to be exactly identical (initializing a BertForSequenceClassification model from a BertForSequenceClassification model).\n",
      "Some weights of BertForSequenceClassification were not initialized from the model checkpoint at bert-base-uncased and are newly initialized: ['classifier.weight', 'classifier.bias']\n",
      "You should probably TRAIN this model on a down-stream task to be able to use it for predictions and inference.\n"
     ]
    },
    {
     "data": {
      "application/vnd.jupyter.widget-view+json": {
       "model_id": "d907b65f460b4e26a863ecc465280e86",
       "version_major": 2,
       "version_minor": 0
      },
      "text/plain": [
       "Downloading:   0%|          | 0.00/28.0 [00:00<?, ?B/s]"
      ]
     },
     "metadata": {},
     "output_type": "display_data"
    },
    {
     "data": {
      "application/vnd.jupyter.widget-view+json": {
       "model_id": "eb691a5c3d9f44749f8fbc10786157e1",
       "version_major": 2,
       "version_minor": 0
      },
      "text/plain": [
       "Downloading:   0%|          | 0.00/226k [00:00<?, ?B/s]"
      ]
     },
     "metadata": {},
     "output_type": "display_data"
    },
    {
     "data": {
      "application/vnd.jupyter.widget-view+json": {
       "model_id": "359336d359de4448879e2342d359f916",
       "version_major": 2,
       "version_minor": 0
      },
      "text/plain": [
       "Downloading:   0%|          | 0.00/455k [00:00<?, ?B/s]"
      ]
     },
     "metadata": {},
     "output_type": "display_data"
    }
   ],
   "source": [
    "from sentence_transformers.cross_encoder import CrossEncoder\n",
    "\n",
    "cross_encoder = CrossEncoder('bert-base-uncased', num_labels=1)"
   ]
  },
  {
   "cell_type": "code",
   "execution_count": null,
   "id": "1030923d",
   "metadata": {},
   "outputs": [
    {
     "data": {
      "application/vnd.jupyter.widget-view+json": {
       "model_id": "03c2845dfcc84f91914173d8101a8379",
       "version_major": 2,
       "version_minor": 0
      },
      "text/plain": [
       "Epoch:   0%|          | 0/1 [00:00<?, ?it/s]"
      ]
     },
     "metadata": {},
     "output_type": "display_data"
    },
    {
     "data": {
      "application/vnd.jupyter.widget-view+json": {
       "model_id": "7f21dc95f2f14d40a2ed85a237cfa29e",
       "version_major": 2,
       "version_minor": 0
      },
      "text/plain": [
       "Iteration:   0%|          | 0/360 [00:00<?, ?it/s]"
      ]
     },
     "metadata": {},
     "output_type": "display_data"
    }
   ],
   "source": [
    "num_epochs = 1\n",
    "warmup = int(len(loader) * num_epochs * 0.4)\n",
    "\n",
    "cross_encoder.fit(\n",
    "    train_dataloader=loader,\n",
    "    epochs=num_epochs,\n",
    "    warmup_steps=warmup,\n",
    "    output_path='bert-stsb-cross-encoder'\n",
    ")"
   ]
  },
  {
   "cell_type": "code",
   "execution_count": null,
   "id": "784bf8b0",
   "metadata": {},
   "outputs": [],
   "source": [
    "import pandas as pd\n",
    "\n",
    "gold = datasets.load_dataset('glue', 'stsb', split='train')\n",
    "\n",
    "gold = pd.DataFrame({\n",
    "    'sentence1': gold['sentence1'],\n",
    "    'sentence2': gold['sentence2']\n",
    "})"
   ]
  },
  {
   "cell_type": "code",
   "execution_count": null,
   "id": "4a1bcea2",
   "metadata": {},
   "outputs": [],
   "source": [
    "from tqdm.auto import tqdm\n",
    "\n",
    "\n",
    "pairs = pd.DataFrame()\n",
    "# loop through each unique sentence in 'sentence1'\n",
    "for sentence1 in tqdm(list(set(gold['sentence1']))):\n",
    "    # get a sample of 5 rows that do not contain the current 'sentence1'\n",
    "    sampled = gold[gold['sentence1'] != sentence1].sample(5)\n",
    "    # get the 5 sentence2 sentences\n",
    "    sampled = sampled['sentence2'].tolist()\n",
    "    for sentence2 in sampled:\n",
    "        # append all of these new pairs to the new 'pairs' dataframe\n",
    "        pairs = pairs.append({\n",
    "            'sentence1': sentence1,\n",
    "            'sentence2': sentence2\n",
    "        }, ignore_index=True)"
   ]
  },
  {
   "cell_type": "code",
   "execution_count": null,
   "id": "a9084853",
   "metadata": {},
   "outputs": [],
   "source": [
    "pairs = pairs.drop_duplicates()\n",
    "len(pairs)"
   ]
  },
  {
   "cell_type": "code",
   "execution_count": null,
   "id": "8dc6ff5b",
   "metadata": {},
   "outputs": [],
   "source": [
    "from sentence_transformers.cross_encoder import CrossEncoder\n",
    "cross_encoder = CrossEncoder('bert-stsb-cross-encoder')"
   ]
  },
  {
   "cell_type": "code",
   "execution_count": null,
   "id": "4173610b",
   "metadata": {},
   "outputs": [],
   "source": [
    "# zip pairs together in format for the cross-encoder\n",
    "silver = list(zip(pairs['sentence1'], pairs['sentence2']))\n",
    "# predict labels for the unlabeled silver data\n",
    "scores = cross_encoder.predict(silver)\n",
    "\n",
    "# add the predicted scores to the pairs dataframe\n",
    "pairs['label'] = scores.tolist()\n",
    "pairs.head()"
   ]
  },
  {
   "cell_type": "code",
   "execution_count": null,
   "id": "5d1ad154",
   "metadata": {},
   "outputs": [],
   "source": [
    "all_data = gold.append(pairs, ignore_index=True)\n",
    "\n",
    "# format into input examples\n",
    "train = []\n",
    "for _, row in all_data.iterrows():\n",
    "    train.append(\n",
    "        InputExample(\n",
    "            texts=[row['sentence1'], row['sentence2']],\n",
    "            label=float(row['label'])\n",
    "        )\n",
    "    )\n",
    "\n",
    "# initialize dataloader\n",
    "loader = DataLoader(\n",
    "    train, shuffle=True, batch_size=batch_size\n",
    ")\n"
   ]
  },
  {
   "cell_type": "code",
   "execution_count": null,
   "id": "2a791952",
   "metadata": {},
   "outputs": [],
   "source": [
    "from sentence_transformers import models, SentenceTransformer\n",
    "\n",
    "# initialize model\n",
    "bert = models.Transformer('bert-base-uncased')\n",
    "pooler = models.Pooling(\n",
    "    bert.get_word_embedding_dimension(),\n",
    "    pooling_mode_mean_tokens=True\n",
    ")\n",
    "model = SentenceTransformer(modules=[bert, pooler])\n"
   ]
  },
  {
   "cell_type": "code",
   "execution_count": null,
   "id": "d25cd99d",
   "metadata": {},
   "outputs": [],
   "source": [
    "from sentence_transformers import losses\n",
    "\n",
    "loss = losses.CosineSimilarityLoss(model=model)\n"
   ]
  },
  {
   "cell_type": "code",
   "execution_count": null,
   "id": "c953056f",
   "metadata": {},
   "outputs": [],
   "source": []
  }
 ],
 "metadata": {
  "kernelspec": {
   "display_name": "Python 3 (ipykernel)",
   "language": "python",
   "name": "python3"
  },
  "language_info": {
   "codemirror_mode": {
    "name": "ipython",
    "version": 3
   },
   "file_extension": ".py",
   "mimetype": "text/x-python",
   "name": "python",
   "nbconvert_exporter": "python",
   "pygments_lexer": "ipython3",
   "version": "3.10.9"
  }
 },
 "nbformat": 4,
 "nbformat_minor": 5
}
